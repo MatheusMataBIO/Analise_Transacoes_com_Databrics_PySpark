{
 "cells": [
  {
   "cell_type": "code",
   "execution_count": 0,
   "metadata": {
    "application/vnd.databricks.v1+cell": {
     "cellMetadata": {
      "byteLimit": 2048000,
      "rowLimit": 10000
     },
     "inputWidgets": {},
     "nuid": "0f4714df-bd0f-4bcb-8180-196e16728a21",
     "showTitle": false,
     "tableResultSettingsMap": {},
     "title": ""
    }
   },
   "outputs": [],
   "source": [
    "from pyspark.sql import SparkSession\n",
    "\n",
    "spark = SparkSession.builder.appName(\"VisualizandoDataset\").getOrCreate()"
   ]
  },
  {
   "cell_type": "code",
   "execution_count": 0,
   "metadata": {
    "application/vnd.databricks.v1+cell": {
     "cellMetadata": {
      "byteLimit": 2048000,
      "rowLimit": 10000
     },
     "inputWidgets": {},
     "nuid": "cadc2b94-2307-4a25-907a-804570a5401f",
     "showTitle": false,
     "tableResultSettingsMap": {},
     "title": ""
    }
   },
   "outputs": [
    {
     "output_type": "stream",
     "name": "stdout",
     "output_type": "stream",
     "text": [
      "+--------------+----------+-----------+------+-----------+-----------------+\n|transaction_id|      date|customer_id|amount|   category|   payment_method|\n+--------------+----------+-----------+------+-----------+-----------------+\n|             1|2024-02-10|       1042| 97.54|   Educação|         Dinheiro|\n|             2|2024-01-08|       1017|457.19|      Saúde| Cartão de Débito|\n|             3|2024-01-02|       1044|436.55|   Educação|         Dinheiro|\n|             4|2024-02-17|       1043|156.24| Transporte| Cartão de Débito|\n|             5|2024-01-18|       1041|323.09| Transporte|              Pix|\n|             6|2024-01-16|       1004| 308.4|      Lazer|              Pix|\n|             7|2024-01-15|       1038| 84.89| Transporte|Cartão de Crédito|\n|             8|2024-01-09|       1040|383.63|Alimentação|Cartão de Crédito|\n|             9|2024-02-17|       1010| 274.3|      Saúde|Cartão de Crédito|\n|            10|2024-01-07|       1034|391.53|      Saúde| Cartão de Débito|\n|            11|2024-02-13|       1046|269.87|Alimentação|Cartão de Crédito|\n|            12|2024-02-17|       1015| 10.28|      Lazer|         Dinheiro|\n|            13|2024-02-27|       1010|168.84|Alimentação| Cartão de Débito|\n|            14|2024-02-04|       1029| 19.54|Alimentação|              Pix|\n|            15|2024-01-06|       1024|465.26|      Saúde| Cartão de Débito|\n|            16|2024-02-07|       1017|440.57|   Educação|Cartão de Crédito|\n|            17|2024-01-28|       1040|417.52|      Saúde|         Dinheiro|\n|            18|2024-01-03|       1044|160.68|      Saúde|         Dinheiro|\n|            19|2024-01-02|       1035| 38.38| Transporte|Cartão de Crédito|\n|            20|2024-01-06|       1014|440.22|Alimentação|         Dinheiro|\n+--------------+----------+-----------+------+-----------+-----------------+\nonly showing top 20 rows\n\n"
     ]
    }
   ],
   "source": [
    "# Caminho do dataset\n",
    "caminho_dataset = \"dbfs:/FileStore/tables/financial_transactions.csv\"\n",
    "\n",
    "#Visualizando o dataset\n",
    "df_financial = spark.read.csv(caminho_dataset, header=True, inferSchema=True)\n",
    "df_financial.show()\n",
    "\n",
    "\n"
   ]
  },
  {
   "cell_type": "code",
   "execution_count": 0,
   "metadata": {
    "application/vnd.databricks.v1+cell": {
     "cellMetadata": {
      "byteLimit": 2048000,
      "rowLimit": 10000
     },
     "inputWidgets": {},
     "nuid": "91526232-fb1f-4f39-b51b-7c05e004a6a5",
     "showTitle": false,
     "tableResultSettingsMap": {},
     "title": ""
    }
   },
   "outputs": [
    {
     "output_type": "stream",
     "name": "stdout",
     "output_type": "stream",
     "text": [
      "root\n |-- transaction_id: integer (nullable = true)\n |-- date: date (nullable = true)\n |-- customer_id: integer (nullable = true)\n |-- amount: double (nullable = true)\n |-- category: string (nullable = true)\n |-- payment_method: string (nullable = true)\n\n"
     ]
    }
   ],
   "source": [
    "# Visualização dos tipos de dados \n",
    "df_financial.printSchema()"
   ]
  },
  {
   "cell_type": "code",
   "execution_count": 0,
   "metadata": {
    "application/vnd.databricks.v1+cell": {
     "cellMetadata": {
      "byteLimit": 2048000,
      "rowLimit": 10000
     },
     "inputWidgets": {},
     "nuid": "a0c0b311-3389-4c86-bd3b-c1314434b5aa",
     "showTitle": false,
     "tableResultSettingsMap": {},
     "title": ""
    }
   },
   "outputs": [
    {
     "output_type": "stream",
     "name": "stdout",
     "output_type": "stream",
     "text": [
      "+--------------+----+-----------+------+--------+--------------+\n|transaction_id|date|customer_id|amount|category|payment_method|\n+--------------+----+-----------+------+--------+--------------+\n|             0|   0|          0|     0|       0|             0|\n+--------------+----+-----------+------+--------+--------------+\n\n"
     ]
    }
   ],
   "source": [
    "from pyspark.sql.functions import col, sum as _sum\n",
    "\n",
    "# Verifica se as colunas tem números nulos e quantidade desses números\n",
    "df_financial.select([_sum(col(c).isNull().cast(\"int\")).alias(c) for c in df_financial.columns]).show()"
   ]
  },
  {
   "cell_type": "code",
   "execution_count": 0,
   "metadata": {
    "application/vnd.databricks.v1+cell": {
     "cellMetadata": {
      "byteLimit": 2048000,
      "rowLimit": 10000
     },
     "inputWidgets": {},
     "nuid": "7e8d85e6-33ae-4191-97d8-283accbe14f5",
     "showTitle": false,
     "tableResultSettingsMap": {},
     "title": ""
    }
   },
   "outputs": [
    {
     "output_type": "stream",
     "name": "stdout",
     "output_type": "stream",
     "text": [
      "+--------------+----+-----------+------+--------+--------------+\n|transaction_id|date|customer_id|amount|category|payment_method|\n+--------------+----+-----------+------+--------+--------------+\n+--------------+----+-----------+------+--------+--------------+\n\n"
     ]
    }
   ],
   "source": [
    "# Verifica se há transações com o amount negativo\n",
    "df_financial.filter(col(\"amount\") < 0).show()"
   ]
  },
  {
   "cell_type": "code",
   "execution_count": 0,
   "metadata": {
    "application/vnd.databricks.v1+cell": {
     "cellMetadata": {
      "byteLimit": 2048000,
      "rowLimit": 10000
     },
     "inputWidgets": {},
     "nuid": "33116250-cb1e-43d7-b8fd-c55d5944b1cb",
     "showTitle": false,
     "tableResultSettingsMap": {},
     "title": ""
    }
   },
   "outputs": [
    {
     "output_type": "stream",
     "name": "stdout",
     "output_type": "stream",
     "text": [
      "+--------------+----+-----------+------+--------+--------------+-----+\n|transaction_id|date|customer_id|amount|category|payment_method|count|\n+--------------+----+-----------+------+--------+--------------+-----+\n+--------------+----+-----------+------+--------+--------------+-----+\n\n"
     ]
    }
   ],
   "source": [
    "from pyspark.sql.functions import count\n",
    "\n",
    "# Verificar duplicatas em todas as colunaas\n",
    "df_financial.groupBy(df_financial.columns).count().filter(\"count > 1\").show()"
   ]
  },
  {
   "cell_type": "code",
   "execution_count": 0,
   "metadata": {
    "application/vnd.databricks.v1+cell": {
     "cellMetadata": {
      "byteLimit": 2048000,
      "rowLimit": 10000
     },
     "inputWidgets": {},
     "nuid": "7fb825f5-ca2a-4d95-83b9-6309205550f7",
     "showTitle": false,
     "tableResultSettingsMap": {},
     "title": ""
    }
   },
   "outputs": [
    {
     "output_type": "stream",
     "name": "stdout",
     "output_type": "stream",
     "text": [
      "+-----------+-----------+\n|customer_id|total_gasto|\n+-----------+-----------+\n|       1025|     734.46|\n|       1016|     809.11|\n|       1005|     241.61|\n|       1031|     787.43|\n|       1034|     715.98|\n|       1046|    1420.77|\n|       1008|     250.49|\n|       1047|     244.94|\n|       1021|     463.92|\n|       1029|      621.5|\n|       1032|     862.59|\n|       1010|     775.43|\n|       1002|      72.91|\n|       1048|      662.2|\n|       1050|     238.84|\n|       1035|     373.01|\n|       1045|     274.26|\n|       1017|    1537.29|\n|       1037|     498.38|\n|       1036|     113.78|\n+-----------+-----------+\nonly showing top 20 rows\n\n"
     ]
    }
   ],
   "source": [
    "from pyspark.sql.functions import round\n",
    "\n",
    "# Calcula o gasto total por clientes agrupando os dados pelo customer_id\n",
    "df_total_gasto = df_financial.groupBy(\"customer_id\").agg(round(_sum(\"amount\"), 2).alias(\"total_gasto\"))\n",
    "df_total_gasto.show()"
   ]
  },
  {
   "cell_type": "code",
   "execution_count": 0,
   "metadata": {
    "application/vnd.databricks.v1+cell": {
     "cellMetadata": {
      "byteLimit": 2048000,
      "rowLimit": 10000
     },
     "inputWidgets": {},
     "nuid": "267484c2-c21d-448a-a768-69a0018be1cf",
     "showTitle": false,
     "tableResultSettingsMap": {},
     "title": ""
    }
   },
   "outputs": [
    {
     "output_type": "stream",
     "name": "stdout",
     "output_type": "stream",
     "text": [
      "+-----------+-----------+\n|customer_id|total_gasto|\n+-----------+-----------+\n|       1043|    1561.97|\n|       1017|    1537.29|\n|       1046|    1420.77|\n|       1041|    1195.31|\n|       1040|    1022.37|\n|       1027|    1019.13|\n|       1038|    1009.35|\n|       1014|     940.46|\n|       1032|     862.59|\n|       1024|      848.8|\n|       1016|     809.11|\n|       1004|     804.11|\n|       1003|     788.37|\n|       1031|     787.43|\n|       1010|     775.43|\n|       1007|     756.29|\n|       1025|     734.46|\n|       1034|     715.98|\n|       1049|      711.7|\n|       1020|     662.53|\n+-----------+-----------+\nonly showing top 20 rows\n\n"
     ]
    }
   ],
   "source": [
    "# Ordena a coluna total_gasto do maior valor para o menor\n",
    "df_total_gasto.orderBy(\"total_gasto\", ascending=False).show()"
   ]
  },
  {
   "cell_type": "code",
   "execution_count": 0,
   "metadata": {
    "application/vnd.databricks.v1+cell": {
     "cellMetadata": {
      "byteLimit": 2048000,
      "rowLimit": 10000
     },
     "inputWidgets": {},
     "nuid": "0f4bd6ca-4592-43be-909c-ef276e9a8a23",
     "showTitle": false,
     "tableResultSettingsMap": {},
     "title": ""
    }
   },
   "outputs": [
    {
     "output_type": "stream",
     "name": "stdout",
     "output_type": "stream",
     "text": [
      "+-----------+-----------+\n|customer_id|total_gasto|\n+-----------+-----------+\n|       1043|    1561.97|\n|       1017|    1537.29|\n|       1046|    1420.77|\n+-----------+-----------+\n\n"
     ]
    }
   ],
   "source": [
    "# Identifica os 3 clientes que mais gastaram \n",
    "df_total_gasto.orderBy(\"total_gasto\", ascending=False).limit(3).show()"
   ]
  }
 ],
 "metadata": {
  "application/vnd.databricks.v1+notebook": {
   "computePreferences": null,
   "dashboards": [],
   "environmentMetadata": {
    "base_environment": "",
    "client": "1"
   },
   "language": "python",
   "notebookMetadata": {
    "pythonIndentUnit": 4
   },
   "notebookName": "Notebook sem título 2025-02-19 23:48:09",
   "widgets": {}
  }
 },
 "nbformat": 4,
 "nbformat_minor": 0
}
